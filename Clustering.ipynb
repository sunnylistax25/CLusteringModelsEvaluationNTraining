{
  "nbformat": 4,
  "nbformat_minor": 0,
  "metadata": {
    "colab": {
      "provenance": [],
      "authorship_tag": "ABX9TyNrurhR3zxnrEXJJkIsSZcH",
      "include_colab_link": true
    },
    "kernelspec": {
      "name": "python3",
      "display_name": "Python 3"
    },
    "language_info": {
      "name": "python"
    }
  },
  "cells": [
    {
      "cell_type": "markdown",
      "metadata": {
        "id": "view-in-github",
        "colab_type": "text"
      },
      "source": [
        "<a href=\"https://colab.research.google.com/github/sunnylistax25/CLusteringModelsEvaluationNTraining/blob/main/Clustering.ipynb\" target=\"_parent\"><img src=\"https://colab.research.google.com/assets/colab-badge.svg\" alt=\"Open In Colab\"/></a>"
      ]
    },
    {
      "cell_type": "code",
      "execution_count": 1,
      "metadata": {
        "colab": {
          "base_uri": "https://localhost:8080/",
          "height": 618
        },
        "id": "EJ21maZhVhfy",
        "outputId": "e1eabc93-4124-4f16-fcba-ba291292812a"
      },
      "outputs": [
        {
          "output_type": "stream",
          "name": "stdout",
          "text": [
            "--2023-02-04 21:40:43--  https://raw.githubusercontent.com/MicrosoftDocs/mslearn-introduction-to-machine-learning/main/Data/ml-basics/seeds.csv\n",
            "Resolving raw.githubusercontent.com (raw.githubusercontent.com)... 185.199.108.133, 185.199.109.133, 185.199.110.133, ...\n",
            "Connecting to raw.githubusercontent.com (raw.githubusercontent.com)|185.199.108.133|:443... connected.\n",
            "HTTP request sent, awaiting response... 200 OK\n",
            "Length: 9386 (9.2K) [text/plain]\n",
            "Saving to: ‘seeds.csv’\n",
            "\n",
            "\rseeds.csv             0%[                    ]       0  --.-KB/s               \rseeds.csv           100%[===================>]   9.17K  --.-KB/s    in 0s      \n",
            "\n",
            "2023-02-04 21:40:43 (87.3 MB/s) - ‘seeds.csv’ saved [9386/9386]\n",
            "\n"
          ]
        },
        {
          "output_type": "execute_result",
          "data": {
            "text/plain": [
              "      area  perimeter  compactness  kernel_length  kernel_width  \\\n",
              "96   19.31      16.59       0.8815          6.341         3.810   \n",
              "93   18.59      16.05       0.9066          6.037         3.860   \n",
              "40   13.54      13.85       0.8871          5.348         3.156   \n",
              "38   14.80      14.52       0.8823          5.656         3.288   \n",
              "45   13.80      14.04       0.8794          5.376         3.155   \n",
              "106  18.85      16.17       0.9056          6.152         3.806   \n",
              "126  18.65      16.41       0.8698          6.285         3.594   \n",
              "187  10.91      12.80       0.8372          5.088         2.675   \n",
              "4    16.14      14.99       0.9034          5.658         3.562   \n",
              "33   13.94      14.17       0.8728          5.585         3.150   \n",
              "\n",
              "     asymmetry_coefficient  \n",
              "96                   3.477  \n",
              "93                   6.001  \n",
              "40                   2.587  \n",
              "38                   3.112  \n",
              "45                   1.560  \n",
              "106                  2.843  \n",
              "126                  4.391  \n",
              "187                  4.179  \n",
              "4                    1.355  \n",
              "33                   2.124  "
            ],
            "text/html": [
              "\n",
              "  <div id=\"df-9438359c-ab54-4f91-bf06-3794b2e051f4\">\n",
              "    <div class=\"colab-df-container\">\n",
              "      <div>\n",
              "<style scoped>\n",
              "    .dataframe tbody tr th:only-of-type {\n",
              "        vertical-align: middle;\n",
              "    }\n",
              "\n",
              "    .dataframe tbody tr th {\n",
              "        vertical-align: top;\n",
              "    }\n",
              "\n",
              "    .dataframe thead th {\n",
              "        text-align: right;\n",
              "    }\n",
              "</style>\n",
              "<table border=\"1\" class=\"dataframe\">\n",
              "  <thead>\n",
              "    <tr style=\"text-align: right;\">\n",
              "      <th></th>\n",
              "      <th>area</th>\n",
              "      <th>perimeter</th>\n",
              "      <th>compactness</th>\n",
              "      <th>kernel_length</th>\n",
              "      <th>kernel_width</th>\n",
              "      <th>asymmetry_coefficient</th>\n",
              "    </tr>\n",
              "  </thead>\n",
              "  <tbody>\n",
              "    <tr>\n",
              "      <th>96</th>\n",
              "      <td>19.31</td>\n",
              "      <td>16.59</td>\n",
              "      <td>0.8815</td>\n",
              "      <td>6.341</td>\n",
              "      <td>3.810</td>\n",
              "      <td>3.477</td>\n",
              "    </tr>\n",
              "    <tr>\n",
              "      <th>93</th>\n",
              "      <td>18.59</td>\n",
              "      <td>16.05</td>\n",
              "      <td>0.9066</td>\n",
              "      <td>6.037</td>\n",
              "      <td>3.860</td>\n",
              "      <td>6.001</td>\n",
              "    </tr>\n",
              "    <tr>\n",
              "      <th>40</th>\n",
              "      <td>13.54</td>\n",
              "      <td>13.85</td>\n",
              "      <td>0.8871</td>\n",
              "      <td>5.348</td>\n",
              "      <td>3.156</td>\n",
              "      <td>2.587</td>\n",
              "    </tr>\n",
              "    <tr>\n",
              "      <th>38</th>\n",
              "      <td>14.80</td>\n",
              "      <td>14.52</td>\n",
              "      <td>0.8823</td>\n",
              "      <td>5.656</td>\n",
              "      <td>3.288</td>\n",
              "      <td>3.112</td>\n",
              "    </tr>\n",
              "    <tr>\n",
              "      <th>45</th>\n",
              "      <td>13.80</td>\n",
              "      <td>14.04</td>\n",
              "      <td>0.8794</td>\n",
              "      <td>5.376</td>\n",
              "      <td>3.155</td>\n",
              "      <td>1.560</td>\n",
              "    </tr>\n",
              "    <tr>\n",
              "      <th>106</th>\n",
              "      <td>18.85</td>\n",
              "      <td>16.17</td>\n",
              "      <td>0.9056</td>\n",
              "      <td>6.152</td>\n",
              "      <td>3.806</td>\n",
              "      <td>2.843</td>\n",
              "    </tr>\n",
              "    <tr>\n",
              "      <th>126</th>\n",
              "      <td>18.65</td>\n",
              "      <td>16.41</td>\n",
              "      <td>0.8698</td>\n",
              "      <td>6.285</td>\n",
              "      <td>3.594</td>\n",
              "      <td>4.391</td>\n",
              "    </tr>\n",
              "    <tr>\n",
              "      <th>187</th>\n",
              "      <td>10.91</td>\n",
              "      <td>12.80</td>\n",
              "      <td>0.8372</td>\n",
              "      <td>5.088</td>\n",
              "      <td>2.675</td>\n",
              "      <td>4.179</td>\n",
              "    </tr>\n",
              "    <tr>\n",
              "      <th>4</th>\n",
              "      <td>16.14</td>\n",
              "      <td>14.99</td>\n",
              "      <td>0.9034</td>\n",
              "      <td>5.658</td>\n",
              "      <td>3.562</td>\n",
              "      <td>1.355</td>\n",
              "    </tr>\n",
              "    <tr>\n",
              "      <th>33</th>\n",
              "      <td>13.94</td>\n",
              "      <td>14.17</td>\n",
              "      <td>0.8728</td>\n",
              "      <td>5.585</td>\n",
              "      <td>3.150</td>\n",
              "      <td>2.124</td>\n",
              "    </tr>\n",
              "  </tbody>\n",
              "</table>\n",
              "</div>\n",
              "      <button class=\"colab-df-convert\" onclick=\"convertToInteractive('df-9438359c-ab54-4f91-bf06-3794b2e051f4')\"\n",
              "              title=\"Convert this dataframe to an interactive table.\"\n",
              "              style=\"display:none;\">\n",
              "        \n",
              "  <svg xmlns=\"http://www.w3.org/2000/svg\" height=\"24px\"viewBox=\"0 0 24 24\"\n",
              "       width=\"24px\">\n",
              "    <path d=\"M0 0h24v24H0V0z\" fill=\"none\"/>\n",
              "    <path d=\"M18.56 5.44l.94 2.06.94-2.06 2.06-.94-2.06-.94-.94-2.06-.94 2.06-2.06.94zm-11 1L8.5 8.5l.94-2.06 2.06-.94-2.06-.94L8.5 2.5l-.94 2.06-2.06.94zm10 10l.94 2.06.94-2.06 2.06-.94-2.06-.94-.94-2.06-.94 2.06-2.06.94z\"/><path d=\"M17.41 7.96l-1.37-1.37c-.4-.4-.92-.59-1.43-.59-.52 0-1.04.2-1.43.59L10.3 9.45l-7.72 7.72c-.78.78-.78 2.05 0 2.83L4 21.41c.39.39.9.59 1.41.59.51 0 1.02-.2 1.41-.59l7.78-7.78 2.81-2.81c.8-.78.8-2.07 0-2.86zM5.41 20L4 18.59l7.72-7.72 1.47 1.35L5.41 20z\"/>\n",
              "  </svg>\n",
              "      </button>\n",
              "      \n",
              "  <style>\n",
              "    .colab-df-container {\n",
              "      display:flex;\n",
              "      flex-wrap:wrap;\n",
              "      gap: 12px;\n",
              "    }\n",
              "\n",
              "    .colab-df-convert {\n",
              "      background-color: #E8F0FE;\n",
              "      border: none;\n",
              "      border-radius: 50%;\n",
              "      cursor: pointer;\n",
              "      display: none;\n",
              "      fill: #1967D2;\n",
              "      height: 32px;\n",
              "      padding: 0 0 0 0;\n",
              "      width: 32px;\n",
              "    }\n",
              "\n",
              "    .colab-df-convert:hover {\n",
              "      background-color: #E2EBFA;\n",
              "      box-shadow: 0px 1px 2px rgba(60, 64, 67, 0.3), 0px 1px 3px 1px rgba(60, 64, 67, 0.15);\n",
              "      fill: #174EA6;\n",
              "    }\n",
              "\n",
              "    [theme=dark] .colab-df-convert {\n",
              "      background-color: #3B4455;\n",
              "      fill: #D2E3FC;\n",
              "    }\n",
              "\n",
              "    [theme=dark] .colab-df-convert:hover {\n",
              "      background-color: #434B5C;\n",
              "      box-shadow: 0px 1px 3px 1px rgba(0, 0, 0, 0.15);\n",
              "      filter: drop-shadow(0px 1px 2px rgba(0, 0, 0, 0.3));\n",
              "      fill: #FFFFFF;\n",
              "    }\n",
              "  </style>\n",
              "\n",
              "      <script>\n",
              "        const buttonEl =\n",
              "          document.querySelector('#df-9438359c-ab54-4f91-bf06-3794b2e051f4 button.colab-df-convert');\n",
              "        buttonEl.style.display =\n",
              "          google.colab.kernel.accessAllowed ? 'block' : 'none';\n",
              "\n",
              "        async function convertToInteractive(key) {\n",
              "          const element = document.querySelector('#df-9438359c-ab54-4f91-bf06-3794b2e051f4');\n",
              "          const dataTable =\n",
              "            await google.colab.kernel.invokeFunction('convertToInteractive',\n",
              "                                                     [key], {});\n",
              "          if (!dataTable) return;\n",
              "\n",
              "          const docLinkHtml = 'Like what you see? Visit the ' +\n",
              "            '<a target=\"_blank\" href=https://colab.research.google.com/notebooks/data_table.ipynb>data table notebook</a>'\n",
              "            + ' to learn more about interactive tables.';\n",
              "          element.innerHTML = '';\n",
              "          dataTable['output_type'] = 'display_data';\n",
              "          await google.colab.output.renderOutput(dataTable, element);\n",
              "          const docLink = document.createElement('div');\n",
              "          docLink.innerHTML = docLinkHtml;\n",
              "          element.appendChild(docLink);\n",
              "        }\n",
              "      </script>\n",
              "    </div>\n",
              "  </div>\n",
              "  "
            ]
          },
          "metadata": {},
          "execution_count": 1
        }
      ],
      "source": [
        "import pandas as pd\n",
        "\n",
        "# load the training dataset\n",
        "!wget https://raw.githubusercontent.com/MicrosoftDocs/mslearn-introduction-to-machine-learning/main/Data/ml-basics/seeds.csv\n",
        "data = pd.read_csv('seeds.csv')\n",
        "\n",
        "# Display a random sample of 10 observations (just the features)\n",
        "features = data[data.columns[0:6]]\n",
        "features.sample(10)"
      ]
    },
    {
      "cell_type": "code",
      "source": [
        "from sklearn.preprocessing import MinMaxScaler\n",
        "from sklearn.decomposition import PCA\n",
        "\n",
        "# Normalize the numeric features so they're on the same scale\n",
        "scaled_features = MinMaxScaler().fit_transform(features[data.columns[0:6]])\n",
        "\n",
        "# Get two principal components\n",
        "pca = PCA(n_components=2).fit(scaled_features)\n",
        "features_2d = pca.transform(scaled_features)\n",
        "features_2d[0:10]"
      ],
      "metadata": {
        "colab": {
          "base_uri": "https://localhost:8080/"
        },
        "id": "BP1jkQEAVn2I",
        "outputId": "8f519f26-8252-4985-86b8-ecc172b7d6b0"
      },
      "execution_count": 2,
      "outputs": [
        {
          "output_type": "execute_result",
          "data": {
            "text/plain": [
              "array([[ 0.11883593, -0.09382469],\n",
              "       [ 0.0696878 , -0.31077233],\n",
              "       [-0.03499184, -0.37044705],\n",
              "       [-0.06582089, -0.36365235],\n",
              "       [ 0.32594892, -0.37695797],\n",
              "       [-0.02455447, -0.31060184],\n",
              "       [-0.00769646, -0.07594931],\n",
              "       [-0.05646955, -0.26696284],\n",
              "       [ 0.38196305, -0.05149471],\n",
              "       [ 0.35701044, -0.17697998]])"
            ]
          },
          "metadata": {},
          "execution_count": 2
        }
      ]
    },
    {
      "cell_type": "code",
      "source": [
        "import matplotlib.pyplot as plt\n",
        "\n",
        "%matplotlib inline\n",
        "\n",
        "plt.scatter(features_2d[:,0],features_2d[:,1])\n",
        "plt.xlabel('Dimension 1')\n",
        "plt.ylabel('Dimension 2')\n",
        "plt.title('Data')\n",
        "plt.show()"
      ],
      "metadata": {
        "colab": {
          "base_uri": "https://localhost:8080/",
          "height": 295
        },
        "id": "UFGCQf_CWuUv",
        "outputId": "1fac625a-faba-442b-8e1c-3d95fca75b40"
      },
      "execution_count": 3,
      "outputs": [
        {
          "output_type": "display_data",
          "data": {
            "text/plain": [
              "<Figure size 432x288 with 1 Axes>"
            ],
            "image/png": "[encoded data removed]"
          },
          "metadata": {
            "needs_background": "light"
          }
        }
      ]
    },
    {
      "cell_type": "code",
      "source": [
        "#importing the libraries\n",
        "import numpy as np\n",
        "import matplotlib.pyplot as plt\n",
        "from sklearn.cluster import KMeans\n",
        "%matplotlib inline\n",
        "\n",
        "# Create 10 models with 1 to 10 clusters\n",
        "wcss = []\n",
        "for i in range(1, 11):\n",
        "    kmeans = KMeans(n_clusters = i)\n",
        "    # Fit the data points\n",
        "    kmeans.fit(features.values)\n",
        "    # Get the WCSS (inertia) value\n",
        "    wcss.append(kmeans.inertia_)\n",
        "    \n",
        "#Plot the WCSS values onto a line graph\n",
        "plt.plot(range(1, 11), wcss)\n",
        "plt.title('WCSS by Clusters')\n",
        "plt.xlabel('Number of clusters')\n",
        "plt.ylabel('WCSS')\n",
        "plt.show()"
      ],
      "metadata": {
        "colab": {
          "base_uri": "https://localhost:8080/",
          "height": 295
        },
        "id": "jvZS5TInbA5Q",
        "outputId": "3aa0a9dc-502b-462e-8791-3456c2c59d20"
      },
      "execution_count": 4,
      "outputs": [
        {
          "output_type": "display_data",
          "data": {
            "text/plain": [
              "<Figure size 432x288 with 1 Axes>"
            ],
            "image/png": "[encoded data removed]"
          },
          "metadata": {
            "needs_background": "light"
          }
        }
      ]
    },
    {
      "cell_type": "markdown",
      "source": [
        "Train and Evaluate advanced clustering model"
      ],
      "metadata": {
        "id": "6Axdx3u7fIGF"
      }
    },
    {
      "cell_type": "code",
      "source": [
        "import pandas as pd\n",
        "\n",
        "# load the training dataset\n",
        "!wget https://raw.githubusercontent.com/MicrosoftDocs/mslearn-introduction-to-machine-learning/main/Data/ml-basics/seeds.csv\n",
        "data = pd.read_csv('seeds.csv')\n",
        "\n",
        "# Display a random sample of 10 observations (just the features)\n",
        "features = data[data.columns[0:6]]\n",
        "features.sample(10)\n",
        "\n",
        "from sklearn.preprocessing import MinMaxScaler\n",
        "from sklearn.decomposition import PCA\n",
        "\n",
        "# Normalize the numeric features so they're on the same scale\n",
        "scaled_features = MinMaxScaler().fit_transform(features[data.columns[0:6]])\n",
        "\n",
        "# Get two principal components\n",
        "pca = PCA(n_components=2).fit(scaled_features)\n",
        "features_2d = pca.transform(scaled_features)\n",
        "features_2d[0:10]"
      ],
      "metadata": {
        "colab": {
          "base_uri": "https://localhost:8080/"
        },
        "id": "o1Rts5EtblH3",
        "outputId": "30a86e2a-2569-4724-feca-4024c02252b4"
      },
      "execution_count": 5,
      "outputs": [
        {
          "output_type": "stream",
          "name": "stdout",
          "text": [
            "--2023-02-04 21:40:50--  https://raw.githubusercontent.com/MicrosoftDocs/mslearn-introduction-to-machine-learning/main/Data/ml-basics/seeds.csv\n",
            "Resolving raw.githubusercontent.com (raw.githubusercontent.com)... 185.199.111.133, 185.199.109.133, 185.199.108.133, ...\n",
            "Connecting to raw.githubusercontent.com (raw.githubusercontent.com)|185.199.111.133|:443... connected.\n",
            "HTTP request sent, awaiting response... 200 OK\n",
            "Length: 9386 (9.2K) [text/plain]\n",
            "Saving to: ‘seeds.csv.1’\n",
            "\n",
            "\rseeds.csv.1           0%[                    ]       0  --.-KB/s               \rseeds.csv.1         100%[===================>]   9.17K  --.-KB/s    in 0s      \n",
            "\n",
            "2023-02-04 21:40:50 (61.8 MB/s) - ‘seeds.csv.1’ saved [9386/9386]\n",
            "\n"
          ]
        },
        {
          "output_type": "execute_result",
          "data": {
            "text/plain": [
              "array([[ 0.11883593, -0.09382469],\n",
              "       [ 0.0696878 , -0.31077233],\n",
              "       [-0.03499184, -0.37044705],\n",
              "       [-0.06582089, -0.36365235],\n",
              "       [ 0.32594892, -0.37695797],\n",
              "       [-0.02455447, -0.31060184],\n",
              "       [-0.00769646, -0.07594931],\n",
              "       [-0.05646955, -0.26696284],\n",
              "       [ 0.38196305, -0.05149471],\n",
              "       [ 0.35701044, -0.17697998]])"
            ]
          },
          "metadata": {},
          "execution_count": 5
        }
      ]
    },
    {
      "cell_type": "code",
      "source": [
        "from sklearn.cluster import KMeans\n",
        "\n",
        "# Create a model based on 3 centroids\n",
        "model = KMeans(n_clusters=3, init='k-means++', n_init=100, max_iter=1000)\n",
        "# Fit to the data and predict the cluster assignments for each data point\n",
        "km_clusters = model.fit_predict(features.values)\n",
        "# View the cluster assignments\n",
        "km_clusters"
      ],
      "metadata": {
        "colab": {
          "base_uri": "https://localhost:8080/"
        },
        "id": "NXWeDfEXfv_D",
        "outputId": "56dc1670-6505-44d1-f882-21de09281e49"
      },
      "execution_count": 6,
      "outputs": [
        {
          "output_type": "execute_result",
          "data": {
            "text/plain": [
              "array([2, 2, 2, 2, 2, 2, 2, 2, 2, 2, 2, 2, 2, 2, 2, 2, 0, 2, 2, 0, 2, 2,\n",
              "       2, 2, 2, 2, 0, 2, 2, 2, 2, 2, 2, 2, 2, 2, 2, 1, 2, 0, 2, 2, 2, 2,\n",
              "       2, 2, 2, 2, 2, 2, 2, 2, 2, 2, 2, 2, 2, 2, 2, 2, 0, 0, 0, 0, 2, 2,\n",
              "       2, 2, 2, 0, 1, 1, 1, 1, 1, 1, 1, 1, 1, 1, 1, 1, 1, 1, 1, 1, 1, 1,\n",
              "       1, 1, 1, 1, 1, 1, 1, 1, 1, 1, 1, 1, 2, 1, 1, 1, 1, 1, 1, 1, 1, 1,\n",
              "       1, 1, 1, 1, 1, 1, 1, 1, 1, 1, 1, 1, 2, 1, 2, 1, 1, 1, 1, 1, 1, 1,\n",
              "       2, 2, 2, 2, 1, 2, 2, 2, 0, 0, 0, 0, 0, 0, 0, 0, 0, 0, 0, 0, 0, 0,\n",
              "       0, 0, 0, 0, 0, 0, 0, 0, 0, 0, 0, 0, 0, 0, 0, 0, 0, 0, 0, 0, 0, 0,\n",
              "       0, 0, 0, 2, 0, 0, 0, 0, 0, 0, 0, 0, 0, 0, 0, 0, 0, 0, 0, 0, 0, 0,\n",
              "       0, 0, 0, 2, 0, 0, 0, 0, 0, 0, 0, 0], dtype=int32)"
            ]
          },
          "metadata": {},
          "execution_count": 6
        }
      ]
    },
    {
      "cell_type": "code",
      "source": [
        "import matplotlib.pyplot as plt\n",
        "%matplotlib inline\n",
        "\n",
        "def plot_clusters(samples, clusters):\n",
        "    col_dic = {0:'blue',1:'green',2:'orange'}\n",
        "    mrk_dic = {0:'*',1:'x',2:'+'}\n",
        "    colors = [col_dic[x] for x in clusters]\n",
        "    markers = [mrk_dic[x] for x in clusters]\n",
        "    for sample in range(len(clusters)):\n",
        "        plt.scatter(samples[sample][0], samples[sample][1], color = colors[sample], marker=markers[sample], s=100)\n",
        "    plt.xlabel('Dimension 1')\n",
        "    plt.ylabel('Dimension 2')\n",
        "    plt.title('Assignments')\n",
        "    plt.show()\n",
        "\n",
        "plot_clusters(features_2d, km_clusters)"
      ],
      "metadata": {
        "colab": {
          "base_uri": "https://localhost:8080/",
          "height": 295
        },
        "id": "hSCCFEaEYiH6",
        "outputId": "80701712-95cd-46ee-827e-276632903013"
      },
      "execution_count": 7,
      "outputs": [
        {
          "output_type": "display_data",
          "data": {
            "text/plain": [
              "<Figure size 432x288 with 1 Axes>"
            ],
            "image/png": "[encoded data removed]"
          },
          "metadata": {
            "needs_background": "light"
          }
        }
      ]
    },
    {
      "cell_type": "code",
      "source": [
        "seed_species = data[data.columns[7]]\n",
        "plot_clusters(features_2d, seed_species.values)"
      ],
      "metadata": {
        "colab": {
          "base_uri": "https://localhost:8080/",
          "height": 295
        },
        "id": "YnVh728oaH6f",
        "outputId": "cc74da3c-1f13-4e87-c235-838227b1d6eb"
      },
      "execution_count": 8,
      "outputs": [
        {
          "output_type": "display_data",
          "data": {
            "text/plain": [
              "<Figure size 432x288 with 1 Axes>"
            ],
            "image/png": "[encoded data removed]"
          },
          "metadata": {
            "needs_background": "light"
          }
        }
      ]
    },
    {
      "cell_type": "code",
      "source": [
        "from sklearn.cluster import AgglomerativeClustering\n",
        "\n",
        "agg_model = AgglomerativeClustering(n_clusters=3)\n",
        "agg_clusters = agg_model.fit_predict(features.values)\n",
        "agg_clusters"
      ],
      "metadata": {
        "colab": {
          "base_uri": "https://localhost:8080/"
        },
        "id": "r9LTz2q7dJlK",
        "outputId": "1dea1eb3-ef45-4562-9e00-366b573e0c01"
      },
      "execution_count": 9,
      "outputs": [
        {
          "output_type": "execute_result",
          "data": {
            "text/plain": [
              "array([0, 0, 0, 0, 0, 0, 0, 0, 0, 0, 0, 0, 0, 0, 0, 0, 0, 0, 0, 2, 0, 0,\n",
              "       0, 0, 0, 0, 2, 0, 0, 0, 0, 0, 0, 0, 0, 0, 0, 0, 0, 2, 0, 0, 0, 0,\n",
              "       0, 0, 0, 0, 0, 0, 0, 0, 0, 0, 0, 0, 0, 0, 0, 0, 0, 0, 2, 0, 0, 0,\n",
              "       0, 0, 0, 2, 0, 0, 0, 1, 0, 0, 0, 1, 1, 0, 0, 1, 1, 1, 1, 1, 1, 1,\n",
              "       1, 1, 1, 1, 1, 1, 1, 0, 1, 1, 1, 1, 0, 1, 1, 1, 1, 1, 1, 0, 1, 1,\n",
              "       1, 1, 1, 1, 1, 1, 1, 1, 1, 1, 1, 0, 0, 1, 0, 1, 1, 1, 1, 0, 1, 1,\n",
              "       0, 0, 0, 0, 0, 0, 0, 0, 2, 2, 2, 2, 2, 2, 0, 2, 2, 2, 2, 2, 2, 2,\n",
              "       2, 2, 2, 2, 2, 2, 2, 2, 2, 2, 2, 0, 2, 2, 2, 2, 2, 2, 2, 2, 2, 2,\n",
              "       2, 2, 2, 0, 2, 2, 2, 2, 2, 2, 2, 2, 2, 2, 2, 2, 2, 2, 2, 2, 2, 0,\n",
              "       2, 0, 2, 0, 2, 2, 2, 2, 2, 2, 2, 2])"
            ]
          },
          "metadata": {},
          "execution_count": 9
        }
      ]
    },
    {
      "cell_type": "code",
      "source": [
        "import matplotlib.pyplot as plt\n",
        "\n",
        "%matplotlib inline\n",
        "\n",
        "def plot_clusters(samples, clusters):\n",
        "    col_dic = {0:'blue',1:'green',2:'orange'}\n",
        "    mrk_dic = {0:'*',1:'x',2:'+'}\n",
        "    colors = [col_dic[x] for x in clusters]\n",
        "    markers = [mrk_dic[x] for x in clusters]\n",
        "    for sample in range(len(clusters)):\n",
        "        plt.scatter(samples[sample][0], samples[sample][1], color = colors[sample], marker=markers[sample], s=100)\n",
        "    plt.xlabel('Dimension 1')\n",
        "    plt.ylabel('Dimension 2')\n",
        "    plt.title('Assignments')\n",
        "    plt.show()\n",
        "\n",
        "plot_clusters(features_2d, agg_clusters)\n"
      ],
      "metadata": {
        "colab": {
          "base_uri": "https://localhost:8080/",
          "height": 295
        },
        "id": "C8acpg2QiFhX",
        "outputId": "44986d05-6d29-456e-96f3-5a2cf545681a"
      },
      "execution_count": 10,
      "outputs": [
        {
          "output_type": "display_data",
          "data": {
            "text/plain": [
              "<Figure size 432x288 with 1 Axes>"
            ],
            "image/png": "[encoded data removed]"
          },
          "metadata": {
            "needs_background": "light"
          }
        }
      ]
    }
  ]
}